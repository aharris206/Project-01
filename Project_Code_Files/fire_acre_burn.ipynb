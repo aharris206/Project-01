{
 "cells": [
  {
   "cell_type": "code",
   "execution_count": 41,
   "metadata": {},
   "outputs": [
    {
     "data": {
      "text/html": [
       "<div>\n",
       "<style scoped>\n",
       "    .dataframe tbody tr th:only-of-type {\n",
       "        vertical-align: middle;\n",
       "    }\n",
       "\n",
       "    .dataframe tbody tr th {\n",
       "        vertical-align: top;\n",
       "    }\n",
       "\n",
       "    .dataframe thead th {\n",
       "        text-align: right;\n",
       "    }\n",
       "</style>\n",
       "<table border=\"1\" class=\"dataframe\">\n",
       "  <thead>\n",
       "    <tr style=\"text-align: right;\">\n",
       "      <th></th>\n",
       "      <th>Acres Burned</th>\n",
       "      <th>Latitude</th>\n",
       "      <th>Longitude</th>\n",
       "      <th>Incident Start</th>\n",
       "    </tr>\n",
       "  </thead>\n",
       "  <tbody>\n",
       "    <tr>\n",
       "      <th>0</th>\n",
       "      <td>30.0</td>\n",
       "      <td>40.618056</td>\n",
       "      <td>-123.675556</td>\n",
       "      <td>2019-01-01T14:14:00Z</td>\n",
       "    </tr>\n",
       "    <tr>\n",
       "      <th>1</th>\n",
       "      <td>80.0</td>\n",
       "      <td>39.246780</td>\n",
       "      <td>-121.323990</td>\n",
       "      <td>2019-06-25T13:51:09Z</td>\n",
       "    </tr>\n",
       "    <tr>\n",
       "      <th>2</th>\n",
       "      <td>161.0</td>\n",
       "      <td>35.817780</td>\n",
       "      <td>-120.097150</td>\n",
       "      <td>2019-04-28T22:20:00Z</td>\n",
       "    </tr>\n",
       "    <tr>\n",
       "      <th>3</th>\n",
       "      <td>10.0</td>\n",
       "      <td>39.839580</td>\n",
       "      <td>-121.957000</td>\n",
       "      <td>2019-04-30T12:20:00Z</td>\n",
       "    </tr>\n",
       "    <tr>\n",
       "      <th>4</th>\n",
       "      <td>115.0</td>\n",
       "      <td>35.651890</td>\n",
       "      <td>-118.925450</td>\n",
       "      <td>2019-04-30T18:37:00Z</td>\n",
       "    </tr>\n",
       "  </tbody>\n",
       "</table>\n",
       "</div>"
      ],
      "text/plain": [
       "   Acres Burned   Latitude   Longitude        Incident Start\n",
       "0          30.0  40.618056 -123.675556  2019-01-01T14:14:00Z\n",
       "1          80.0  39.246780 -121.323990  2019-06-25T13:51:09Z\n",
       "2         161.0  35.817780 -120.097150  2019-04-28T22:20:00Z\n",
       "3          10.0  39.839580 -121.957000  2019-04-30T12:20:00Z\n",
       "4         115.0  35.651890 -118.925450  2019-04-30T18:37:00Z"
      ]
     },
     "execution_count": 41,
     "metadata": {},
     "output_type": "execute_result"
    }
   ],
   "source": [
    "# Dependencies\n",
    "import requests\n",
    "import json\n",
    "import os\n",
    "import pandas as pd\n",
    "import hvplot.pandas\n",
    "import pprint\n",
    "# Load JSON\n",
    "filepath = os.path.join(\"Resources\", \"USDM.json\")\n",
    "with open(filepath) as jsonfile:\n",
    "    json_data = json.load(jsonfile)\n",
    "#json_data\n",
    "url = \"https://www.fire.ca.gov/umbraco/api/IncidentApi/List?\"\n",
    "incident_acres_burned = []\n",
    "incident_latitude = []\n",
    "incident_longitude = []\n",
    "incident_start_timestamp = []\n",
    "\n",
    "start_year = 2019\n",
    "end_year = 2020\n",
    "counter = start_year\n",
    "\n",
    "def json_find(year):\n",
    "    add = f\"year={year}&inactive=true\"\n",
    "    response = requests.get(url + add)\n",
    "    data = response.json()\n",
    "    return data\n",
    "\n",
    "def parse_data(year):\n",
    "    for response in range(len(year)):\n",
    "        incident = year[response]\n",
    "        AcresBurned = incident[\"AcresBurned\"]\n",
    "        latitude = incident[\"Latitude\"]\n",
    "        longitude = incident[\"Longitude\"]\n",
    "        timestamp = incident[\"Started\"]\n",
    "        if AcresBurned != None:\n",
    "            if (longitude <= -110) & (longitude >= -130):\n",
    "                if (latitude <= 43) & (latitude >= 32):\n",
    "                    incident_acres_burned.append(AcresBurned)\n",
    "                    incident_latitude.append(latitude)\n",
    "                    incident_longitude.append(longitude)\n",
    "                    incident_start_timestamp.append(timestamp)\n",
    "\n",
    "while counter <= end_year:\n",
    "    this_json = json_find(counter)\n",
    "    parse_data(this_json)\n",
    "    counter += 1\n",
    "test = pd.DataFrame(data={'Acres Burned': incident_acres_burned, 'Latitude': incident_latitude, \n",
    "                          'Longitude': incident_longitude, 'Incident Start': incident_start_timestamp})\n",
    "test.head()"
   ]
  },
  {
   "cell_type": "code",
   "execution_count": 42,
   "metadata": {},
   "outputs": [
    {
     "name": "stdout",
     "output_type": "stream",
     "text": [
      "{'AcresBurned': 687.0,\n",
      " 'AdminUnit': 'CAL FIRE San Benito Monterey Unit & Mid Coast Fire',\n",
      " 'AdminUnitUrl': None,\n",
      " 'AgencyNames': 'CAL FIRE, CAL OES, Mid Coast Fire Brigade, Big Sur Volunteer '\n",
      "                'Fire Department, Monterey County Regional Fire District, '\n",
      "                'North Monterey County Fire District, Monterey County '\n",
      "                'Sheriff’s Office, California Highway Patrol, and California '\n",
      "                'State Parks',\n",
      " 'CalFireIncident': False,\n",
      " 'ControlStatement': '<p>Offshore winds are expected along the Big Sur '\n",
      "                     'Coastline Wednesday. The fire is in patrol status, with '\n",
      "                     'engines in the area should the need arise. Crews '\n",
      "                     'continue fire suppression repair. Damage inspection has '\n",
      "                     'been completed.</p>',\n",
      " 'County': 'Monterey',\n",
      " 'ExtinguishedDate': '',\n",
      " 'ExtinguishedDateOnly': '',\n",
      " 'Final': True,\n",
      " 'IsActive': False,\n",
      " 'Latitude': 36.396461,\n",
      " 'Location': 'Palo Colorado Canyon, Big Sur, south of Carmel-by-the-sea',\n",
      " 'Longitude': -121.880533,\n",
      " 'Name': 'Colorado Fire',\n",
      " 'NotificationDesired': False,\n",
      " 'PercentContained': 100.0,\n",
      " 'Started': '2022-01-21T17:19:00Z',\n",
      " 'StartedDateOnly': '2022-01-21',\n",
      " 'Type': 'Wildfire',\n",
      " 'UniqueId': 'f3558310-247c-4913-a08b-68d568abdf4b',\n",
      " 'Updated': '2022-02-03T11:08:21Z',\n",
      " 'Url': 'https://www.fire.ca.gov/incidents/2022/1/21/colorado-fire/'}\n"
     ]
    }
   ],
   "source": [
    "add = f\"year=2022&inactive=true\"\n",
    "response = requests.get(url + add)\n",
    "data = response.json()\n",
    "pp = pprint.PrettyPrinter(indent=1)\n",
    "pp.pprint(data[0])"
   ]
  },
  {
   "cell_type": "code",
   "execution_count": 43,
   "metadata": {},
   "outputs": [
    {
     "name": "stdout",
     "output_type": "stream",
     "text": [
      "Mean: Acres Burned    6427.908367\n",
      "Latitude          37.144143\n",
      "Longitude       -120.268393\n",
      "dtype: float64\n",
      "Median: Acres Burned    128.000000\n",
      "Latitude         37.451605\n",
      "Longitude      -120.805137\n",
      "dtype: float64\n"
     ]
    },
    {
     "name": "stderr",
     "output_type": "stream",
     "text": [
      "C:\\Users\\Andrew\\AppData\\Local\\Temp\\ipykernel_26836\\2805946779.py:1: FutureWarning: The default value of numeric_only in DataFrame.mean is deprecated. In a future version, it will default to False. In addition, specifying 'numeric_only=None' is deprecated. Select only valid columns or specify the value of numeric_only to silence this warning.\n",
      "  mean = test.mean()\n",
      "C:\\Users\\Andrew\\AppData\\Local\\Temp\\ipykernel_26836\\2805946779.py:2: FutureWarning: The default value of numeric_only in DataFrame.median is deprecated. In a future version, it will default to False. In addition, specifying 'numeric_only=None' is deprecated. Select only valid columns or specify the value of numeric_only to silence this warning.\n",
      "  median = test.median()\n"
     ]
    },
    {
     "data": {
      "text/plain": [
       "count        502\n",
       "mean        6427\n",
       "std        55119\n",
       "min            2\n",
       "25%           42\n",
       "50%          128\n",
       "75%          452\n",
       "max      1032648\n",
       "Name: Acres Burned, dtype: int64"
      ]
     },
     "execution_count": 43,
     "metadata": {},
     "output_type": "execute_result"
    }
   ],
   "source": [
    "mean = test.mean()\n",
    "median = test.median()\n",
    "print(f'Mean: {mean}')\n",
    "print(f'Median: {median}')\n",
    "test['Acres Burned'].describe().astype('int64')"
   ]
  },
  {
   "cell_type": "code",
   "execution_count": 44,
   "metadata": {},
   "outputs": [
    {
     "data": {
      "text/plain": [
       "0    40.618056\n",
       "1    39.246780\n",
       "2    35.817780\n",
       "3    39.839580\n",
       "4    35.651890\n",
       "Name: Latitude, dtype: float64"
      ]
     },
     "execution_count": 44,
     "metadata": {},
     "output_type": "execute_result"
    }
   ],
   "source": [
    "test['Latitude'].head()"
   ]
  },
  {
   "cell_type": "code",
   "execution_count": 38,
   "metadata": {},
   "outputs": [
    {
     "data": {
      "text/plain": [
       "0   -118.016510\n",
       "1   -116.941311\n",
       "2   -119.635004\n",
       "3   -121.595555\n",
       "4   -122.350844\n",
       "Name: Longitude, dtype: float64"
      ]
     },
     "execution_count": 38,
     "metadata": {},
     "output_type": "execute_result"
    }
   ],
   "source": [
    "test['Longitude'].head()"
   ]
  },
  {
   "cell_type": "code",
   "execution_count": 39,
   "metadata": {},
   "outputs": [],
   "source": [
    "map_plot = test.hvplot.points(\n",
    "    \"Longitude\",\n",
    "    \"Latitude\",\n",
    "    geo = True,\n",
    "    tiles = \"OSM\",\n",
    "    frame_width = 700,\n",
    "    frame_height = 500,\n",
    "    scale = 0.01\n",
    ")"
   ]
  },
  {
   "cell_type": "code",
   "execution_count": 40,
   "metadata": {},
   "outputs": [
    {
     "data": {},
     "metadata": {},
     "output_type": "display_data"
    },
    {
     "data": {
      "application/vnd.holoviews_exec.v0+json": "",
      "text/html": [
       "<div id='1512'>\n",
       "  <div class=\"bk-root\" id=\"f5c8aee3-d366-4a50-9ca9-52523633bee6\" data-root-id=\"1512\"></div>\n",
       "</div>\n",
       "<script type=\"application/javascript\">(function(root) {\n",
       "  function embed_document(root) {\n",
       "    var docs_json = {\"1879dc0f-109c-4950-bfbf-97427b0d3694\":{\"defs\":[{\"extends\":null,\"module\":null,\"name\":\"ReactiveHTML1\",\"overrides\":[],\"properties\":[]},{\"extends\":null,\"module\":null,\"name\":\"FlexBox1\",\"overrides\":[],\"properties\":[{\"default\":\"flex-start\",\"kind\":null,\"name\":\"align_content\"},{\"default\":\"flex-start\",\"kind\":null,\"name\":\"align_items\"},{\"default\":\"row\",\"kind\":null,\"name\":\"flex_direction\"},{\"default\":\"wrap\",\"kind\":null,\"name\":\"flex_wrap\"},{\"default\":\"flex-start\",\"kind\":null,\"name\":\"justify_content\"}]},{\"extends\":null,\"module\":null,\"name\":\"GridStack1\",\"overrides\":[],\"properties\":[{\"default\":\"warn\",\"kind\":null,\"name\":\"mode\"},{\"default\":null,\"kind\":null,\"name\":\"ncols\"},{\"default\":null,\"kind\":null,\"name\":\"nrows\"},{\"default\":true,\"kind\":null,\"name\":\"allow_resize\"},{\"default\":true,\"kind\":null,\"name\":\"allow_drag\"},{\"default\":[],\"kind\":null,\"name\":\"state\"}]},{\"extends\":null,\"module\":null,\"name\":\"click1\",\"overrides\":[],\"properties\":[{\"default\":\"\",\"kind\":null,\"name\":\"terminal_output\"},{\"default\":\"\",\"kind\":null,\"name\":\"debug_name\"},{\"default\":0,\"kind\":null,\"name\":\"clears\"}]},{\"extends\":null,\"module\":null,\"name\":\"NotificationAreaBase1\",\"overrides\":[],\"properties\":[{\"default\":\"bottom-right\",\"kind\":null,\"name\":\"position\"},{\"default\":0,\"kind\":null,\"name\":\"_clear\"}]},{\"extends\":null,\"module\":null,\"name\":\"NotificationArea1\",\"overrides\":[],\"properties\":[{\"default\":[],\"kind\":null,\"name\":\"notifications\"},{\"default\":\"bottom-right\",\"kind\":null,\"name\":\"position\"},{\"default\":0,\"kind\":null,\"name\":\"_clear\"},{\"default\":[{\"background\":\"#ffc107\",\"icon\":{\"className\":\"fas fa-exclamation-triangle\",\"color\":\"white\",\"tagName\":\"i\"},\"type\":\"warning\"},{\"background\":\"#007bff\",\"icon\":{\"className\":\"fas fa-info-circle\",\"color\":\"white\",\"tagName\":\"i\"},\"type\":\"info\"}],\"kind\":null,\"name\":\"types\"}]},{\"extends\":null,\"module\":null,\"name\":\"Notification\",\"overrides\":[],\"properties\":[{\"default\":null,\"kind\":null,\"name\":\"background\"},{\"default\":3000,\"kind\":null,\"name\":\"duration\"},{\"default\":null,\"kind\":null,\"name\":\"icon\"},{\"default\":\"\",\"kind\":null,\"name\":\"message\"},{\"default\":null,\"kind\":null,\"name\":\"notification_type\"},{\"default\":false,\"kind\":null,\"name\":\"_destroyed\"}]},{\"extends\":null,\"module\":null,\"name\":\"TemplateActions1\",\"overrides\":[],\"properties\":[{\"default\":0,\"kind\":null,\"name\":\"open_modal\"},{\"default\":0,\"kind\":null,\"name\":\"close_modal\"}]},{\"extends\":null,\"module\":null,\"name\":\"MaterialTemplateActions1\",\"overrides\":[],\"properties\":[{\"default\":0,\"kind\":null,\"name\":\"open_modal\"},{\"default\":0,\"kind\":null,\"name\":\"close_modal\"}]}],\"roots\":{\"references\":[{\"attributes\":{\"end\":-12234116.51839243,\"min_interval\":5,\"reset_end\":-12234116.51839243,\"reset_start\":-14469417.668395879,\"start\":-14469417.668395879,\"tags\":[[[\"Longitude\",\"Longitude\",null]]]},\"id\":\"1517\",\"type\":\"Range1d\"},{\"attributes\":{\"fill_color\":{\"value\":\"#30a2da\"},\"hatch_color\":{\"value\":\"#30a2da\"},\"line_color\":{\"value\":\"#30a2da\"},\"size\":{\"value\":5.477225575051661},\"x\":{\"field\":\"Longitude\"},\"y\":{\"field\":\"Latitude\"}},\"id\":\"1590\",\"type\":\"Scatter\"},{\"attributes\":{},\"id\":\"1542\",\"type\":\"PanTool\"},{\"attributes\":{\"dimension\":\"lon\"},\"id\":\"1557\",\"type\":\"MercatorTickFormatter\"},{\"attributes\":{\"angle\":{\"value\":0.0},\"fill_alpha\":{\"value\":1.0},\"fill_color\":{\"value\":\"#30a2da\"},\"hatch_alpha\":{\"value\":1.0},\"hatch_color\":{\"value\":\"#30a2da\"},\"hatch_scale\":{\"value\":12.0},\"hatch_weight\":{\"value\":1.0},\"line_alpha\":{\"value\":1.0},\"line_cap\":{\"value\":\"butt\"},\"line_color\":{\"value\":\"#30a2da\"},\"line_dash\":{\"value\":[]},\"line_dash_offset\":{\"value\":0},\"line_join\":{\"value\":\"bevel\"},\"line_width\":{\"value\":1},\"marker\":{\"value\":\"circle\"},\"size\":{\"value\":5.477225575051661},\"x\":{\"field\":\"Longitude\"},\"y\":{\"field\":\"Latitude\"}},\"id\":\"1597\",\"type\":\"Scatter\"},{\"attributes\":{\"axis_label\":\"y\",\"coordinates\":null,\"formatter\":{\"id\":\"1559\"},\"group\":null,\"major_label_policy\":{\"id\":\"1569\"},\"ticker\":{\"id\":\"1558\"}},\"id\":\"1537\",\"type\":\"LinearAxis\"},{\"attributes\":{\"coordinates\":null,\"data_source\":{\"id\":\"1587\"},\"glyph\":{\"id\":\"1590\"},\"group\":null,\"hover_glyph\":null,\"muted_glyph\":{\"id\":\"1592\"},\"nonselection_glyph\":{\"id\":\"1591\"},\"selection_glyph\":{\"id\":\"1597\"},\"view\":{\"id\":\"1594\"}},\"id\":\"1593\",\"type\":\"GlyphRenderer\"},{\"attributes\":{\"dimension\":\"lat\"},\"id\":\"1559\",\"type\":\"MercatorTickFormatter\"},{\"attributes\":{\"axis\":{\"id\":\"1537\"},\"coordinates\":null,\"dimension\":1,\"grid_line_color\":null,\"group\":null,\"ticker\":null},\"id\":\"1540\",\"type\":\"Grid\"},{\"attributes\":{\"zoom_on_axis\":false},\"id\":\"1543\",\"type\":\"WheelZoomTool\"},{\"attributes\":{\"children\":[{\"id\":\"1524\"}],\"margin\":[0,0,0,0],\"name\":\"Row01987\",\"sizing_mode\":\"fixed\",\"tags\":[\"embedded\"]},\"id\":\"1512\",\"type\":\"Row\"},{\"attributes\":{\"fill_alpha\":{\"value\":0.2},\"fill_color\":{\"value\":\"#30a2da\"},\"hatch_alpha\":{\"value\":0.2},\"hatch_color\":{\"value\":\"#30a2da\"},\"line_alpha\":{\"value\":0.2},\"line_color\":{\"value\":\"#30a2da\"},\"size\":{\"value\":5.477225575051661},\"x\":{\"field\":\"Longitude\"},\"y\":{\"field\":\"Latitude\"}},\"id\":\"1592\",\"type\":\"Scatter\"},{\"attributes\":{},\"id\":\"1541\",\"type\":\"SaveTool\"},{\"attributes\":{\"code\":\"\\n        var projections = Bokeh.require(\\\"core/util/projections\\\");\\n        var x = special_vars.data_x\\n        var y = special_vars.data_y\\n        var coords = projections.wgs84_mercator.invert(x, y)\\n        return \\\"\\\" + (coords[1]).toFixed(4)\\n    \"},\"id\":\"1596\",\"type\":\"CustomJSHover\"},{\"attributes\":{\"match_aspect\":true,\"overlay\":{\"id\":\"1546\"}},\"id\":\"1544\",\"type\":\"BoxZoomTool\"},{\"attributes\":{},\"id\":\"1545\",\"type\":\"ResetTool\"},{\"attributes\":{\"fill_alpha\":{\"value\":0.1},\"fill_color\":{\"value\":\"#30a2da\"},\"hatch_alpha\":{\"value\":0.1},\"hatch_color\":{\"value\":\"#30a2da\"},\"line_alpha\":{\"value\":0.1},\"line_color\":{\"value\":\"#30a2da\"},\"size\":{\"value\":5.477225575051661},\"x\":{\"field\":\"Longitude\"},\"y\":{\"field\":\"Latitude\"}},\"id\":\"1591\",\"type\":\"Scatter\"},{\"attributes\":{\"bottom_units\":\"screen\",\"coordinates\":null,\"fill_alpha\":0.5,\"fill_color\":\"lightgrey\",\"group\":null,\"left_units\":\"screen\",\"level\":\"overlay\",\"line_alpha\":1.0,\"line_color\":\"black\",\"line_dash\":[4,4],\"line_width\":2,\"right_units\":\"screen\",\"syncable\":false,\"top_units\":\"screen\"},\"id\":\"1546\",\"type\":\"BoxAnnotation\"},{\"attributes\":{\"source\":{\"id\":\"1587\"}},\"id\":\"1594\",\"type\":\"CDSView\"},{\"attributes\":{\"dimension\":\"lat\"},\"id\":\"1558\",\"type\":\"MercatorTicker\"},{\"attributes\":{\"dimension\":\"lon\"},\"id\":\"1556\",\"type\":\"MercatorTicker\"},{\"attributes\":{},\"id\":\"1605\",\"type\":\"UnionRenderers\"},{\"attributes\":{\"end\":5301225.815287341,\"min_interval\":5,\"reset_end\":5301225.815287341,\"reset_start\":3704582.13671345,\"start\":3704582.13671345,\"tags\":[[[\"Latitude\",\"Latitude\",null]]]},\"id\":\"1518\",\"type\":\"Range1d\"},{\"attributes\":{\"axis\":{\"id\":\"1533\"},\"coordinates\":null,\"grid_line_color\":null,\"group\":null,\"ticker\":null},\"id\":\"1536\",\"type\":\"Grid\"},{\"attributes\":{},\"id\":\"1562\",\"type\":\"AllLabels\"},{\"attributes\":{},\"id\":\"1588\",\"type\":\"Selection\"},{\"attributes\":{},\"id\":\"1529\",\"type\":\"LinearScale\"},{\"attributes\":{\"data\":{\"Latitude\":{\"__ndarray__\":\"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\",\"dtype\":\"float64\",\"order\":\"little\",\"shape\":[212]},\"Longitude\":{\"__ndarray__\":\"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\",\"dtype\":\"float64\",\"order\":\"little\",\"shape\":[212]}},\"selected\":{\"id\":\"1588\"},\"selection_policy\":{\"id\":\"1605\"}},\"id\":\"1587\",\"type\":\"ColumnDataSource\"},{\"attributes\":{\"callback\":null,\"formatters\":{\"$x\":{\"id\":\"1595\"},\"$y\":{\"id\":\"1596\"}},\"renderers\":[{\"id\":\"1593\"}],\"tags\":[\"hv_created\"],\"tooltips\":[[\"Longitude\",\"$x{custom}\"],[\"Latitude\",\"$y{custom}\"]]},\"id\":\"1521\",\"type\":\"HoverTool\"},{\"attributes\":{\"below\":[{\"id\":\"1533\"}],\"center\":[{\"id\":\"1536\"},{\"id\":\"1540\"}],\"frame_height\":500,\"frame_width\":700,\"height\":null,\"left\":[{\"id\":\"1537\"}],\"margin\":[5,5,5,5],\"match_aspect\":true,\"min_border_bottom\":10,\"min_border_left\":10,\"min_border_right\":10,\"min_border_top\":10,\"renderers\":[{\"id\":\"1585\"},{\"id\":\"1593\"}],\"sizing_mode\":\"fixed\",\"title\":{\"id\":\"1525\"},\"toolbar\":{\"id\":\"1547\"},\"width\":null,\"x_range\":{\"id\":\"1517\"},\"x_scale\":{\"id\":\"1529\"},\"y_range\":{\"id\":\"1518\"},\"y_scale\":{\"id\":\"1531\"}},\"id\":\"1524\",\"subtype\":\"Figure\",\"type\":\"Plot\"},{\"attributes\":{\"axis_label\":\"x\",\"coordinates\":null,\"formatter\":{\"id\":\"1557\"},\"group\":null,\"major_label_policy\":{\"id\":\"1562\"},\"ticker\":{\"id\":\"1556\"}},\"id\":\"1533\",\"type\":\"LinearAxis\"},{\"attributes\":{\"active_drag\":{\"id\":\"1542\"},\"active_scroll\":{\"id\":\"1543\"},\"tools\":[{\"id\":\"1521\"},{\"id\":\"1541\"},{\"id\":\"1542\"},{\"id\":\"1543\"},{\"id\":\"1544\"},{\"id\":\"1545\"}]},\"id\":\"1547\",\"type\":\"Toolbar\"},{\"attributes\":{\"code\":\"\\n        var projections = Bokeh.require(\\\"core/util/projections\\\");\\n        var x = special_vars.data_x\\n        var y = special_vars.data_y\\n        var coords = projections.wgs84_mercator.invert(x, y)\\n        return \\\"\\\" + (coords[0]).toFixed(4)\\n    \"},\"id\":\"1595\",\"type\":\"CustomJSHover\"},{\"attributes\":{},\"id\":\"1531\",\"type\":\"LinearScale\"},{\"attributes\":{\"attribution\":\"&copy; <a href=\\\"https://www.openstreetmap.org/copyright\\\">OpenStreetMap</a> contributors\",\"url\":\"https://c.tile.openstreetmap.org/{Z}/{X}/{Y}.png\"},\"id\":\"1582\",\"type\":\"WMTSTileSource\"},{\"attributes\":{\"coordinates\":null,\"group\":null,\"level\":\"glyph\",\"tile_source\":{\"id\":\"1582\"}},\"id\":\"1585\",\"type\":\"TileRenderer\"},{\"attributes\":{},\"id\":\"1569\",\"type\":\"AllLabels\"},{\"attributes\":{\"coordinates\":null,\"group\":null,\"text_color\":\"black\",\"text_font_size\":\"12pt\"},\"id\":\"1525\",\"type\":\"Title\"}],\"root_ids\":[\"1512\"]},\"title\":\"Bokeh Application\",\"version\":\"2.4.3\"}};\n",
       "    var render_items = [{\"docid\":\"1879dc0f-109c-4950-bfbf-97427b0d3694\",\"root_ids\":[\"1512\"],\"roots\":{\"1512\":\"f5c8aee3-d366-4a50-9ca9-52523633bee6\"}}];\n",
       "    root.Bokeh.embed.embed_items_notebook(docs_json, render_items);\n",
       "    for (const render_item of render_items) {\n",
       "      for (const root_id of render_item.root_ids) {\n",
       "\tconst id_el = document.getElementById(root_id)\n",
       "\tif (id_el.children.length && (id_el.children[0].className === 'bk-root')) {\n",
       "\t  const root_el = id_el.children[0]\n",
       "\t  root_el.id = root_el.id + '-rendered'\n",
       "\t}\n",
       "      }\n",
       "    }\n",
       "  }\n",
       "  if (root.Bokeh !== undefined && root.Bokeh.Panel !== undefined) {\n",
       "    embed_document(root);\n",
       "  } else {\n",
       "    var attempts = 0;\n",
       "    var timer = setInterval(function(root) {\n",
       "      if (root.Bokeh !== undefined && root.Bokeh.Panel !== undefined) {\n",
       "        clearInterval(timer);\n",
       "        embed_document(root);\n",
       "      } else if (document.readyState == \"complete\") {\n",
       "        attempts++;\n",
       "        if (attempts > 200) {\n",
       "          clearInterval(timer);\n",
       "          console.log(\"Bokeh: ERROR: Unable to run BokehJS code because BokehJS library is missing\");\n",
       "        }\n",
       "      }\n",
       "    }, 25, root)\n",
       "  }\n",
       "})(window);</script>"
      ],
      "text/plain": [
       ":Overlay\n",
       "   .Tiles.I  :Tiles   [x,y]\n",
       "   .Points.I :Points   [Longitude,Latitude]"
      ]
     },
     "execution_count": 40,
     "metadata": {
      "application/vnd.holoviews_exec.v0+json": {
       "id": "1512"
      }
     },
     "output_type": "execute_result"
    }
   ],
   "source": [
    "map_plot"
   ]
  },
  {
   "cell_type": "code",
   "execution_count": null,
   "metadata": {},
   "outputs": [],
   "source": [
    "test.hvplot.points?"
   ]
  },
  {
   "cell_type": "code",
   "execution_count": null,
   "metadata": {},
   "outputs": [],
   "source": []
  }
 ],
 "metadata": {
  "kernelspec": {
   "display_name": "gv",
   "language": "python",
   "name": "gv"
  },
  "language_info": {
   "codemirror_mode": {
    "name": "ipython",
    "version": 3
   },
   "file_extension": ".py",
   "mimetype": "text/x-python",
   "name": "python",
   "nbconvert_exporter": "python",
   "pygments_lexer": "ipython3",
   "version": "3.9.15"
  }
 },
 "nbformat": 4,
 "nbformat_minor": 2
}
