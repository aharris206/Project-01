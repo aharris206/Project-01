{
 "cells": [
  {
   "cell_type": "code",
   "execution_count": 31,
   "id": "cd9d91f6",
   "metadata": {},
   "outputs": [
    {
     "data": {
      "text/html": [
       "<div>\n",
       "<style scoped>\n",
       "    .dataframe tbody tr th:only-of-type {\n",
       "        vertical-align: middle;\n",
       "    }\n",
       "\n",
       "    .dataframe tbody tr th {\n",
       "        vertical-align: top;\n",
       "    }\n",
       "\n",
       "    .dataframe thead th {\n",
       "        text-align: right;\n",
       "    }\n",
       "</style>\n",
       "<table border=\"1\" class=\"dataframe\">\n",
       "  <thead>\n",
       "    <tr style=\"text-align: right;\">\n",
       "      <th></th>\n",
       "      <th>Acres Burned</th>\n",
       "      <th>Latitude</th>\n",
       "      <th>Longitude</th>\n",
       "      <th>Incident Start</th>\n",
       "      <th>County</th>\n",
       "      <th>Cause Type</th>\n",
       "      <th>Start Date</th>\n",
       "    </tr>\n",
       "  </thead>\n",
       "  <tbody>\n",
       "    <tr>\n",
       "      <th>0</th>\n",
       "      <td>407.0</td>\n",
       "      <td>36.602575</td>\n",
       "      <td>-118.016510</td>\n",
       "      <td>2013-02-24T08:16:00Z</td>\n",
       "      <td>Inyo</td>\n",
       "      <td></td>\n",
       "      <td>2013-02-24</td>\n",
       "    </tr>\n",
       "    <tr>\n",
       "      <th>1</th>\n",
       "      <td>30.0</td>\n",
       "      <td>34.288877</td>\n",
       "      <td>-116.941311</td>\n",
       "      <td>2013-04-20T17:30:00Z</td>\n",
       "      <td>San Bernardino</td>\n",
       "      <td></td>\n",
       "      <td>2013-04-20</td>\n",
       "    </tr>\n",
       "    <tr>\n",
       "      <th>2</th>\n",
       "      <td>274.0</td>\n",
       "      <td>37.116295</td>\n",
       "      <td>-119.635004</td>\n",
       "      <td>2013-04-30T12:59:00Z</td>\n",
       "      <td>Madera</td>\n",
       "      <td></td>\n",
       "      <td>2013-04-30</td>\n",
       "    </tr>\n",
       "    <tr>\n",
       "      <th>3</th>\n",
       "      <td>6896.0</td>\n",
       "      <td>40.190062</td>\n",
       "      <td>-121.595555</td>\n",
       "      <td>2013-05-01T09:12:00Z</td>\n",
       "      <td>Tehama</td>\n",
       "      <td></td>\n",
       "      <td>2013-05-01</td>\n",
       "    </tr>\n",
       "    <tr>\n",
       "      <th>4</th>\n",
       "      <td>75.0</td>\n",
       "      <td>38.441792</td>\n",
       "      <td>-122.350844</td>\n",
       "      <td>2013-04-30T23:44:00Z</td>\n",
       "      <td>Napa</td>\n",
       "      <td></td>\n",
       "      <td>2013-04-30</td>\n",
       "    </tr>\n",
       "  </tbody>\n",
       "</table>\n",
       "</div>"
      ],
      "text/plain": [
       "   Acres Burned   Latitude   Longitude        Incident Start          County  \\\n",
       "0         407.0  36.602575 -118.016510  2013-02-24T08:16:00Z            Inyo   \n",
       "1          30.0  34.288877 -116.941311  2013-04-20T17:30:00Z  San Bernardino   \n",
       "2         274.0  37.116295 -119.635004  2013-04-30T12:59:00Z          Madera   \n",
       "3        6896.0  40.190062 -121.595555  2013-05-01T09:12:00Z          Tehama   \n",
       "4          75.0  38.441792 -122.350844  2013-04-30T23:44:00Z            Napa   \n",
       "\n",
       "  Cause Type  Start Date  \n",
       "0             2013-02-24  \n",
       "1             2013-04-20  \n",
       "2             2013-04-30  \n",
       "3             2013-05-01  \n",
       "4             2013-04-30  "
      ]
     },
     "execution_count": 31,
     "metadata": {},
     "output_type": "execute_result"
    }
   ],
   "source": [
    "# Dependencies\n",
    "import requests\n",
    "import json\n",
    "import os\n",
    "import pandas as pd\n",
    "import matplotlib.pyplot as plt\n",
    "import hvplot.pandas\n",
    "import pprint\n",
    "# Load JSON\n",
    "filepath = os.path.join(\"Resources\", \"USDM.json\")\n",
    "with open(filepath) as jsonfile:\n",
    "    json_data = json.load(jsonfile)\n",
    "#json_data\n",
    "url = \"https://www.fire.ca.gov/umbraco/api/IncidentApi/List?\"\n",
    "incident_acres_burned = []\n",
    "incident_latitude = []\n",
    "incident_longitude = []\n",
    "incident_start_timestamp = []\n",
    "incident_county = []\n",
    "incident_type = []\n",
    "incident_start_date = []\n",
    "\n",
    "start_year = 2000\n",
    "end_year = 2023\n",
    "counter = start_year\n",
    "\n",
    "def json_find(year):\n",
    "    add = f\"year={year}&inactive=true\"\n",
    "    response = requests.get(url + add)\n",
    "    data = response.json()\n",
    "    return data\n",
    "\n",
    "def parse_data(year):\n",
    "    for response in range(len(year)):\n",
    "        incident = year[response]\n",
    "        AcresBurned = incident[\"AcresBurned\"]\n",
    "        latitude = incident[\"Latitude\"]\n",
    "        longitude = incident[\"Longitude\"]\n",
    "        timestamp = incident[\"Started\"]\n",
    "        county = incident[\"County\"]\n",
    "        types = incident[\"Type\"]\n",
    "        start_date = incident[\"StartedDateOnly\"]\n",
    "        if AcresBurned != None:\n",
    "            if (longitude <= -110) & (longitude >= -130):\n",
    "                if (latitude <= 43) & (latitude >= 32):\n",
    "                    incident_acres_burned.append(AcresBurned)\n",
    "                    incident_latitude.append(latitude)\n",
    "                    incident_longitude.append(longitude)\n",
    "                    incident_start_timestamp.append(timestamp)\n",
    "                    incident_county.append(county)\n",
    "                    incident_type.append(types)\n",
    "                    incident_start_date.append(start_date)\n",
    "\n",
    "while counter <= end_year:\n",
    "    this_json = json_find(counter)\n",
    "    parse_data(this_json)\n",
    "    counter += 1\n",
    "test = pd.DataFrame(data={'Acres Burned': incident_acres_burned, 'Latitude': incident_latitude, \n",
    "                          'Longitude': incident_longitude, 'Incident Start': incident_start_timestamp,\n",
    "                          'County': incident_county, 'Cause Type': incident_type, \"Start Date\": incident_start_date,})\n",
    "test.head()"
   ]
  },
  {
   "cell_type": "code",
   "execution_count": 19,
   "id": "ff634e66",
   "metadata": {},
   "outputs": [
    {
     "name": "stdout",
     "output_type": "stream",
     "text": [
      "{'AcresBurned': 687.0,\n",
      " 'AdminUnit': 'CAL FIRE San Benito Monterey Unit & Mid Coast Fire',\n",
      " 'AdminUnitUrl': None,\n",
      " 'AgencyNames': 'CAL FIRE, CAL OES, Mid Coast Fire Brigade, Big Sur Volunteer '\n",
      "                'Fire Department, Monterey County Regional Fire District, '\n",
      "                'North Monterey County Fire District, Monterey County '\n",
      "                'Sheriff’s Office, California Highway Patrol, and California '\n",
      "                'State Parks',\n",
      " 'CalFireIncident': False,\n",
      " 'ControlStatement': '<p>Offshore winds are expected along the Big Sur '\n",
      "                     'Coastline Wednesday. The fire is in patrol status, with '\n",
      "                     'engines in the area should the need arise. Crews '\n",
      "                     'continue fire suppression repair. Damage inspection has '\n",
      "                     'been completed.</p>',\n",
      " 'County': 'Monterey',\n",
      " 'ExtinguishedDate': '',\n",
      " 'ExtinguishedDateOnly': '',\n",
      " 'Final': True,\n",
      " 'IsActive': False,\n",
      " 'Latitude': 36.396461,\n",
      " 'Location': 'Palo Colorado Canyon, Big Sur, south of Carmel-by-the-sea',\n",
      " 'Longitude': -121.880533,\n",
      " 'Name': 'Colorado Fire',\n",
      " 'NotificationDesired': False,\n",
      " 'PercentContained': 100.0,\n",
      " 'Started': '2022-01-21T17:19:00Z',\n",
      " 'StartedDateOnly': '2022-01-21',\n",
      " 'Type': 'Wildfire',\n",
      " 'UniqueId': 'f3558310-247c-4913-a08b-68d568abdf4b',\n",
      " 'Updated': '2022-02-03T11:08:21Z',\n",
      " 'Url': 'https://www.fire.ca.gov/incidents/2022/1/21/colorado-fire/'}\n"
     ]
    }
   ],
   "source": [
    "add = f\"year=2022&inactive=true\"\n",
    "response = requests.get(url + add)\n",
    "data = response.json()\n",
    "pp = pprint.PrettyPrinter(indent=1)\n",
    "pp.pprint(data[0])"
   ]
  },
  {
   "cell_type": "code",
   "execution_count": 30,
   "id": "ff1cd0b3",
   "metadata": {},
   "outputs": [
    {
     "name": "stdout",
     "output_type": "stream",
     "text": [
      "Mean: Acres Burned     NaN\n",
      "Latitude         NaN\n",
      "Longitude        NaN\n",
      "Incident Start   NaN\n",
      "County           NaN\n",
      "Cause Type       NaN\n",
      "Start Date       NaN\n",
      "dtype: float64\n",
      "Median: Acres Burned     NaN\n",
      "Latitude         NaN\n",
      "Longitude        NaN\n",
      "Incident Start   NaN\n",
      "County           NaN\n",
      "Cause Type       NaN\n",
      "Start Date       NaN\n",
      "dtype: float64\n"
     ]
    },
    {
     "ename": "ValueError",
     "evalue": "Cannot convert non-finite values (NA or inf) to integer",
     "output_type": "error",
     "traceback": [
      "\u001b[1;31m---------------------------------------------------------------------------\u001b[0m",
      "\u001b[1;31mValueError\u001b[0m                                Traceback (most recent call last)",
      "\u001b[1;32m~\\AppData\\Local\\Temp\\ipykernel_19380\\2805946779.py\u001b[0m in \u001b[0;36m<module>\u001b[1;34m\u001b[0m\n\u001b[0;32m      3\u001b[0m \u001b[0mprint\u001b[0m\u001b[1;33m(\u001b[0m\u001b[1;34mf'Mean: {mean}'\u001b[0m\u001b[1;33m)\u001b[0m\u001b[1;33m\u001b[0m\u001b[1;33m\u001b[0m\u001b[0m\n\u001b[0;32m      4\u001b[0m \u001b[0mprint\u001b[0m\u001b[1;33m(\u001b[0m\u001b[1;34mf'Median: {median}'\u001b[0m\u001b[1;33m)\u001b[0m\u001b[1;33m\u001b[0m\u001b[1;33m\u001b[0m\u001b[0m\n\u001b[1;32m----> 5\u001b[1;33m \u001b[0mtest\u001b[0m\u001b[1;33m[\u001b[0m\u001b[1;34m'Acres Burned'\u001b[0m\u001b[1;33m]\u001b[0m\u001b[1;33m.\u001b[0m\u001b[0mdescribe\u001b[0m\u001b[1;33m(\u001b[0m\u001b[1;33m)\u001b[0m\u001b[1;33m.\u001b[0m\u001b[0mastype\u001b[0m\u001b[1;33m(\u001b[0m\u001b[1;34m'int64'\u001b[0m\u001b[1;33m)\u001b[0m\u001b[1;33m\u001b[0m\u001b[1;33m\u001b[0m\u001b[0m\n\u001b[0m",
      "\u001b[1;32m~\\anaconda3\\envs\\PythonData\\lib\\site-packages\\pandas\\core\\generic.py\u001b[0m in \u001b[0;36mastype\u001b[1;34m(self, dtype, copy, errors)\u001b[0m\n\u001b[0;32m   5696\u001b[0m         \u001b[1;32melse\u001b[0m\u001b[1;33m:\u001b[0m\u001b[1;33m\u001b[0m\u001b[1;33m\u001b[0m\u001b[0m\n\u001b[0;32m   5697\u001b[0m             \u001b[1;31m# else, only a single dtype is given\u001b[0m\u001b[1;33m\u001b[0m\u001b[1;33m\u001b[0m\u001b[1;33m\u001b[0m\u001b[0m\n\u001b[1;32m-> 5698\u001b[1;33m             \u001b[0mnew_data\u001b[0m \u001b[1;33m=\u001b[0m \u001b[0mself\u001b[0m\u001b[1;33m.\u001b[0m\u001b[0m_data\u001b[0m\u001b[1;33m.\u001b[0m\u001b[0mastype\u001b[0m\u001b[1;33m(\u001b[0m\u001b[0mdtype\u001b[0m\u001b[1;33m=\u001b[0m\u001b[0mdtype\u001b[0m\u001b[1;33m,\u001b[0m \u001b[0mcopy\u001b[0m\u001b[1;33m=\u001b[0m\u001b[0mcopy\u001b[0m\u001b[1;33m,\u001b[0m \u001b[0merrors\u001b[0m\u001b[1;33m=\u001b[0m\u001b[0merrors\u001b[0m\u001b[1;33m)\u001b[0m\u001b[1;33m\u001b[0m\u001b[1;33m\u001b[0m\u001b[0m\n\u001b[0m\u001b[0;32m   5699\u001b[0m             \u001b[1;32mreturn\u001b[0m \u001b[0mself\u001b[0m\u001b[1;33m.\u001b[0m\u001b[0m_constructor\u001b[0m\u001b[1;33m(\u001b[0m\u001b[0mnew_data\u001b[0m\u001b[1;33m)\u001b[0m\u001b[1;33m.\u001b[0m\u001b[0m__finalize__\u001b[0m\u001b[1;33m(\u001b[0m\u001b[0mself\u001b[0m\u001b[1;33m)\u001b[0m\u001b[1;33m\u001b[0m\u001b[1;33m\u001b[0m\u001b[0m\n\u001b[0;32m   5700\u001b[0m \u001b[1;33m\u001b[0m\u001b[0m\n",
      "\u001b[1;32m~\\anaconda3\\envs\\PythonData\\lib\\site-packages\\pandas\\core\\internals\\managers.py\u001b[0m in \u001b[0;36mastype\u001b[1;34m(self, dtype, copy, errors)\u001b[0m\n\u001b[0;32m    580\u001b[0m \u001b[1;33m\u001b[0m\u001b[0m\n\u001b[0;32m    581\u001b[0m     \u001b[1;32mdef\u001b[0m \u001b[0mastype\u001b[0m\u001b[1;33m(\u001b[0m\u001b[0mself\u001b[0m\u001b[1;33m,\u001b[0m \u001b[0mdtype\u001b[0m\u001b[1;33m,\u001b[0m \u001b[0mcopy\u001b[0m\u001b[1;33m:\u001b[0m \u001b[0mbool\u001b[0m \u001b[1;33m=\u001b[0m \u001b[1;32mFalse\u001b[0m\u001b[1;33m,\u001b[0m \u001b[0merrors\u001b[0m\u001b[1;33m:\u001b[0m \u001b[0mstr\u001b[0m \u001b[1;33m=\u001b[0m \u001b[1;34m\"raise\"\u001b[0m\u001b[1;33m)\u001b[0m\u001b[1;33m:\u001b[0m\u001b[1;33m\u001b[0m\u001b[1;33m\u001b[0m\u001b[0m\n\u001b[1;32m--> 582\u001b[1;33m         \u001b[1;32mreturn\u001b[0m \u001b[0mself\u001b[0m\u001b[1;33m.\u001b[0m\u001b[0mapply\u001b[0m\u001b[1;33m(\u001b[0m\u001b[1;34m\"astype\"\u001b[0m\u001b[1;33m,\u001b[0m \u001b[0mdtype\u001b[0m\u001b[1;33m=\u001b[0m\u001b[0mdtype\u001b[0m\u001b[1;33m,\u001b[0m \u001b[0mcopy\u001b[0m\u001b[1;33m=\u001b[0m\u001b[0mcopy\u001b[0m\u001b[1;33m,\u001b[0m \u001b[0merrors\u001b[0m\u001b[1;33m=\u001b[0m\u001b[0merrors\u001b[0m\u001b[1;33m)\u001b[0m\u001b[1;33m\u001b[0m\u001b[1;33m\u001b[0m\u001b[0m\n\u001b[0m\u001b[0;32m    583\u001b[0m \u001b[1;33m\u001b[0m\u001b[0m\n\u001b[0;32m    584\u001b[0m     \u001b[1;32mdef\u001b[0m \u001b[0mconvert\u001b[0m\u001b[1;33m(\u001b[0m\u001b[0mself\u001b[0m\u001b[1;33m,\u001b[0m \u001b[1;33m**\u001b[0m\u001b[0mkwargs\u001b[0m\u001b[1;33m)\u001b[0m\u001b[1;33m:\u001b[0m\u001b[1;33m\u001b[0m\u001b[1;33m\u001b[0m\u001b[0m\n",
      "\u001b[1;32m~\\anaconda3\\envs\\PythonData\\lib\\site-packages\\pandas\\core\\internals\\managers.py\u001b[0m in \u001b[0;36mapply\u001b[1;34m(self, f, filter, **kwargs)\u001b[0m\n\u001b[0;32m    440\u001b[0m                 \u001b[0mapplied\u001b[0m \u001b[1;33m=\u001b[0m \u001b[0mb\u001b[0m\u001b[1;33m.\u001b[0m\u001b[0mapply\u001b[0m\u001b[1;33m(\u001b[0m\u001b[0mf\u001b[0m\u001b[1;33m,\u001b[0m \u001b[1;33m**\u001b[0m\u001b[0mkwargs\u001b[0m\u001b[1;33m)\u001b[0m\u001b[1;33m\u001b[0m\u001b[1;33m\u001b[0m\u001b[0m\n\u001b[0;32m    441\u001b[0m             \u001b[1;32melse\u001b[0m\u001b[1;33m:\u001b[0m\u001b[1;33m\u001b[0m\u001b[1;33m\u001b[0m\u001b[0m\n\u001b[1;32m--> 442\u001b[1;33m                 \u001b[0mapplied\u001b[0m \u001b[1;33m=\u001b[0m \u001b[0mgetattr\u001b[0m\u001b[1;33m(\u001b[0m\u001b[0mb\u001b[0m\u001b[1;33m,\u001b[0m \u001b[0mf\u001b[0m\u001b[1;33m)\u001b[0m\u001b[1;33m(\u001b[0m\u001b[1;33m**\u001b[0m\u001b[0mkwargs\u001b[0m\u001b[1;33m)\u001b[0m\u001b[1;33m\u001b[0m\u001b[1;33m\u001b[0m\u001b[0m\n\u001b[0m\u001b[0;32m    443\u001b[0m             \u001b[0mresult_blocks\u001b[0m \u001b[1;33m=\u001b[0m \u001b[0m_extend_blocks\u001b[0m\u001b[1;33m(\u001b[0m\u001b[0mapplied\u001b[0m\u001b[1;33m,\u001b[0m \u001b[0mresult_blocks\u001b[0m\u001b[1;33m)\u001b[0m\u001b[1;33m\u001b[0m\u001b[1;33m\u001b[0m\u001b[0m\n\u001b[0;32m    444\u001b[0m \u001b[1;33m\u001b[0m\u001b[0m\n",
      "\u001b[1;32m~\\anaconda3\\envs\\PythonData\\lib\\site-packages\\pandas\\core\\internals\\blocks.py\u001b[0m in \u001b[0;36mastype\u001b[1;34m(self, dtype, copy, errors)\u001b[0m\n\u001b[0;32m    623\u001b[0m             \u001b[0mvals1d\u001b[0m \u001b[1;33m=\u001b[0m \u001b[0mvalues\u001b[0m\u001b[1;33m.\u001b[0m\u001b[0mravel\u001b[0m\u001b[1;33m(\u001b[0m\u001b[1;33m)\u001b[0m\u001b[1;33m\u001b[0m\u001b[1;33m\u001b[0m\u001b[0m\n\u001b[0;32m    624\u001b[0m             \u001b[1;32mtry\u001b[0m\u001b[1;33m:\u001b[0m\u001b[1;33m\u001b[0m\u001b[1;33m\u001b[0m\u001b[0m\n\u001b[1;32m--> 625\u001b[1;33m                 \u001b[0mvalues\u001b[0m \u001b[1;33m=\u001b[0m \u001b[0mastype_nansafe\u001b[0m\u001b[1;33m(\u001b[0m\u001b[0mvals1d\u001b[0m\u001b[1;33m,\u001b[0m \u001b[0mdtype\u001b[0m\u001b[1;33m,\u001b[0m \u001b[0mcopy\u001b[0m\u001b[1;33m=\u001b[0m\u001b[1;32mTrue\u001b[0m\u001b[1;33m)\u001b[0m\u001b[1;33m\u001b[0m\u001b[1;33m\u001b[0m\u001b[0m\n\u001b[0m\u001b[0;32m    626\u001b[0m             \u001b[1;32mexcept\u001b[0m \u001b[1;33m(\u001b[0m\u001b[0mValueError\u001b[0m\u001b[1;33m,\u001b[0m \u001b[0mTypeError\u001b[0m\u001b[1;33m)\u001b[0m\u001b[1;33m:\u001b[0m\u001b[1;33m\u001b[0m\u001b[1;33m\u001b[0m\u001b[0m\n\u001b[0;32m    627\u001b[0m                 \u001b[1;31m# e.g. astype_nansafe can fail on object-dtype of strings\u001b[0m\u001b[1;33m\u001b[0m\u001b[1;33m\u001b[0m\u001b[1;33m\u001b[0m\u001b[0m\n",
      "\u001b[1;32m~\\anaconda3\\envs\\PythonData\\lib\\site-packages\\pandas\\core\\dtypes\\cast.py\u001b[0m in \u001b[0;36mastype_nansafe\u001b[1;34m(arr, dtype, copy, skipna)\u001b[0m\n\u001b[0;32m    866\u001b[0m \u001b[1;33m\u001b[0m\u001b[0m\n\u001b[0;32m    867\u001b[0m         \u001b[1;32mif\u001b[0m \u001b[1;32mnot\u001b[0m \u001b[0mnp\u001b[0m\u001b[1;33m.\u001b[0m\u001b[0misfinite\u001b[0m\u001b[1;33m(\u001b[0m\u001b[0marr\u001b[0m\u001b[1;33m)\u001b[0m\u001b[1;33m.\u001b[0m\u001b[0mall\u001b[0m\u001b[1;33m(\u001b[0m\u001b[1;33m)\u001b[0m\u001b[1;33m:\u001b[0m\u001b[1;33m\u001b[0m\u001b[1;33m\u001b[0m\u001b[0m\n\u001b[1;32m--> 868\u001b[1;33m             \u001b[1;32mraise\u001b[0m \u001b[0mValueError\u001b[0m\u001b[1;33m(\u001b[0m\u001b[1;34m\"Cannot convert non-finite values (NA or inf) to integer\"\u001b[0m\u001b[1;33m)\u001b[0m\u001b[1;33m\u001b[0m\u001b[1;33m\u001b[0m\u001b[0m\n\u001b[0m\u001b[0;32m    869\u001b[0m \u001b[1;33m\u001b[0m\u001b[0m\n\u001b[0;32m    870\u001b[0m     \u001b[1;32melif\u001b[0m \u001b[0mis_object_dtype\u001b[0m\u001b[1;33m(\u001b[0m\u001b[0marr\u001b[0m\u001b[1;33m)\u001b[0m\u001b[1;33m:\u001b[0m\u001b[1;33m\u001b[0m\u001b[1;33m\u001b[0m\u001b[0m\n",
      "\u001b[1;31mValueError\u001b[0m: Cannot convert non-finite values (NA or inf) to integer"
     ]
    }
   ],
   "source": [
    "mean = test.mean()\n",
    "median = test.median()\n",
    "print(f'Mean: {mean}')\n",
    "print(f'Median: {median}')\n",
    "test['Acres Burned'].describe().astype('int64')"
   ]
  },
  {
   "cell_type": "code",
   "execution_count": 21,
   "id": "8e0ffdf1",
   "metadata": {},
   "outputs": [
    {
     "data": {
      "text/plain": [
       "count    2.004000e+03\n",
       "mean     5.193090e+03\n",
       "std      4.005780e+04\n",
       "min      0.000000e+00\n",
       "25%      3.700000e+01\n",
       "50%      1.005000e+02\n",
       "75%      4.442500e+02\n",
       "max      1.032648e+06\n",
       "Name: Acres Burned, dtype: float64"
      ]
     },
     "execution_count": 21,
     "metadata": {},
     "output_type": "execute_result"
    }
   ],
   "source": [
    "acres_burned_stat = test[\"Acres Burned\"].describe()\n",
    "acres_burned_stat"
   ]
  },
  {
   "cell_type": "code",
   "execution_count": 22,
   "id": "7f46875a",
   "metadata": {},
   "outputs": [
    {
     "data": {
      "text/plain": [
       "0.0"
      ]
     },
     "execution_count": 22,
     "metadata": {},
     "output_type": "execute_result"
    }
   ],
   "source": [
    " test[\"Acres Burned\"].min()"
   ]
  },
  {
   "cell_type": "code",
   "execution_count": 23,
   "id": "56b092f2",
   "metadata": {},
   "outputs": [
    {
     "data": {
      "text/plain": [
       "1032648.0"
      ]
     },
     "execution_count": 23,
     "metadata": {},
     "output_type": "execute_result"
    }
   ],
   "source": [
    " test[\"Acres Burned\"].max()"
   ]
  },
  {
   "cell_type": "code",
   "execution_count": 16,
   "id": "0d6b4a62",
   "metadata": {},
   "outputs": [
    {
     "data": {
      "text/plain": [
       "<matplotlib.axes._subplots.AxesSubplot at 0x1d95c39b388>"
      ]
     },
     "execution_count": 16,
     "metadata": {},
     "output_type": "execute_result"
    },
    {
     "data": {
      "image/png": "[encoded data removed]",
      "text/plain": [
       "<Figure size 432x288 with 1 Axes>"
      ]
     },
     "metadata": {
      "needs_background": "light"
     },
     "output_type": "display_data"
    }
   ],
   "source": [
    "test[\"County\"].value_counts().plot(kind='bar')"
   ]
  },
  {
   "cell_type": "code",
   "execution_count": 26,
   "id": "40f6185d",
   "metadata": {},
   "outputs": [],
   "source": [
    "test['Year'] = pd.DatetimeIndex(test['Start Date']).year"
   ]
  },
  {
   "cell_type": "code",
   "execution_count": 27,
   "id": "8ce2401f",
   "metadata": {},
   "outputs": [
    {
     "data": {
      "text/html": [
       "<div>\n",
       "<style scoped>\n",
       "    .dataframe tbody tr th:only-of-type {\n",
       "        vertical-align: middle;\n",
       "    }\n",
       "\n",
       "    .dataframe tbody tr th {\n",
       "        vertical-align: top;\n",
       "    }\n",
       "\n",
       "    .dataframe thead th {\n",
       "        text-align: right;\n",
       "    }\n",
       "</style>\n",
       "<table border=\"1\" class=\"dataframe\">\n",
       "  <thead>\n",
       "    <tr style=\"text-align: right;\">\n",
       "      <th></th>\n",
       "      <th>Acres Burned</th>\n",
       "      <th>Latitude</th>\n",
       "      <th>Longitude</th>\n",
       "      <th>Incident Start</th>\n",
       "      <th>County</th>\n",
       "      <th>Cause Type</th>\n",
       "      <th>Start Date</th>\n",
       "      <th>Year</th>\n",
       "    </tr>\n",
       "  </thead>\n",
       "  <tbody>\n",
       "    <tr>\n",
       "      <th>0</th>\n",
       "      <td>407.0</td>\n",
       "      <td>36.602575</td>\n",
       "      <td>-118.016510</td>\n",
       "      <td>2013-02-24T08:16:00Z</td>\n",
       "      <td>Inyo</td>\n",
       "      <td></td>\n",
       "      <td>2013-02-24</td>\n",
       "      <td>2013</td>\n",
       "    </tr>\n",
       "    <tr>\n",
       "      <th>1</th>\n",
       "      <td>30.0</td>\n",
       "      <td>34.288877</td>\n",
       "      <td>-116.941311</td>\n",
       "      <td>2013-04-20T17:30:00Z</td>\n",
       "      <td>San Bernardino</td>\n",
       "      <td></td>\n",
       "      <td>2013-04-20</td>\n",
       "      <td>2013</td>\n",
       "    </tr>\n",
       "    <tr>\n",
       "      <th>2</th>\n",
       "      <td>274.0</td>\n",
       "      <td>37.116295</td>\n",
       "      <td>-119.635004</td>\n",
       "      <td>2013-04-30T12:59:00Z</td>\n",
       "      <td>Madera</td>\n",
       "      <td></td>\n",
       "      <td>2013-04-30</td>\n",
       "      <td>2013</td>\n",
       "    </tr>\n",
       "    <tr>\n",
       "      <th>3</th>\n",
       "      <td>6896.0</td>\n",
       "      <td>40.190062</td>\n",
       "      <td>-121.595555</td>\n",
       "      <td>2013-05-01T09:12:00Z</td>\n",
       "      <td>Tehama</td>\n",
       "      <td></td>\n",
       "      <td>2013-05-01</td>\n",
       "      <td>2013</td>\n",
       "    </tr>\n",
       "    <tr>\n",
       "      <th>4</th>\n",
       "      <td>75.0</td>\n",
       "      <td>38.441792</td>\n",
       "      <td>-122.350844</td>\n",
       "      <td>2013-04-30T23:44:00Z</td>\n",
       "      <td>Napa</td>\n",
       "      <td></td>\n",
       "      <td>2013-04-30</td>\n",
       "      <td>2013</td>\n",
       "    </tr>\n",
       "  </tbody>\n",
       "</table>\n",
       "</div>"
      ],
      "text/plain": [
       "   Acres Burned   Latitude   Longitude        Incident Start          County  \\\n",
       "0         407.0  36.602575 -118.016510  2013-02-24T08:16:00Z            Inyo   \n",
       "1          30.0  34.288877 -116.941311  2013-04-20T17:30:00Z  San Bernardino   \n",
       "2         274.0  37.116295 -119.635004  2013-04-30T12:59:00Z          Madera   \n",
       "3        6896.0  40.190062 -121.595555  2013-05-01T09:12:00Z          Tehama   \n",
       "4          75.0  38.441792 -122.350844  2013-04-30T23:44:00Z            Napa   \n",
       "\n",
       "  Cause Type  Start Date  Year  \n",
       "0             2013-02-24  2013  \n",
       "1             2013-04-20  2013  \n",
       "2             2013-04-30  2013  \n",
       "3             2013-05-01  2013  \n",
       "4             2013-04-30  2013  "
      ]
     },
     "execution_count": 27,
     "metadata": {},
     "output_type": "execute_result"
    }
   ],
   "source": [
    "test.head()"
   ]
  },
  {
   "cell_type": "code",
   "execution_count": null,
   "id": "7f8fd985",
   "metadata": {},
   "outputs": [],
   "source": [
    "years = [\"D0\", \"D1\", \"D2\", \"D3\", \"D4\"]\n",
    "counts = test[\"Year\"].value_counts()\n",
    "plt.bar(causes, counts, alpha=1, align = \"center\")\n",
    "plt.xlabel(\"Drought Level\")\n",
    "plt.ylabel(\"Drought Level Counts\")\n",
    "plt.title(\"Number of Cases Per Drought Level From Year 2000 to 2023\")"
   ]
  },
  {
   "cell_type": "code",
   "execution_count": 28,
   "id": "7dee56d3",
   "metadata": {},
   "outputs": [
    {
     "data": {
      "text/plain": [
       "2013    141\n",
       "Name: Year, dtype: int64"
      ]
     },
     "execution_count": 28,
     "metadata": {},
     "output_type": "execute_result"
    }
   ],
   "source": [
    "test[\"Year\"].value_counts()"
   ]
  },
  {
   "cell_type": "code",
   "execution_count": null,
   "id": "55c1603f",
   "metadata": {},
   "outputs": [],
   "source": []
  }
 ],
 "metadata": {
  "kernelspec": {
   "display_name": "PythonData",
   "language": "python",
   "name": "pythondata"
  },
  "language_info": {
   "codemirror_mode": {
    "name": "ipython",
    "version": 3
   },
   "file_extension": ".py",
   "mimetype": "text/x-python",
   "name": "python",
   "nbconvert_exporter": "python",
   "pygments_lexer": "ipython3",
   "version": "3.7.7"
  }
 },
 "nbformat": 4,
 "nbformat_minor": 5
}
