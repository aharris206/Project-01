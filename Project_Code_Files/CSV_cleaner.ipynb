{
 "cells": [
  {
   "cell_type": "code",
   "execution_count": null,
   "id": "8f725700",
   "metadata": {},
   "outputs": [],
   "source": [
    "import pandas as pd\n",
    "import json\n",
    "import requests\n",
    "import os\n",
    "\n",
    "# Make sure to re-name BOTH of these so the correct file is read in, \n",
    "# and so the cleaned file doesn't over-write previous work\n",
    "file_name = \"20000101_20230202.csv\"\n",
    "new_file_name = \"0002_cleaned_US_Drought_Monitor.csv\"\n",
    "\n",
    "csv_df = pd.read_csv(f\"Resources/raw_csv/{file_name}\")\n",
    "\n",
    "# Display sample data\n",
    "csv_df.head()"
   ]
  },
  {
   "cell_type": "code",
   "execution_count": null,
   "id": "77b66176",
   "metadata": {},
   "outputs": [],
   "source": [
    "d = {'Map Date': csv_df['MapDate'],\n",
    "     'Drought Level': csv_df['USDMLevel'],\n",
    "     'Population Current': csv_df['PopulationCurrent'],\n",
    "     'Population Current %': csv_df['PopulationCurrentPercent'],\n",
    "     'Area Current': csv_df['AreaCurrent'],\n",
    "     'Area Current %': csv_df['AreaCurrentPercent'],\n",
    "     'Area Miles': csv_df['AreaMiles'],\n",
    "     }\n",
    "cleaned_df = pd.DataFrame(data = d, index = None)\n",
    "cleaned_df"
   ]
  },
  {
   "cell_type": "code",
   "execution_count": null,
   "id": "5f00fa7a",
   "metadata": {},
   "outputs": [],
   "source": [
    "cleaned_df.to_csv(f\"Resources/raw_csv/{new_file_name}\")"
   ]
  },
  {
   "cell_type": "code",
   "execution_count": null,
   "id": "ef0d693b",
   "metadata": {},
   "outputs": [],
   "source": []
  }
 ],
 "metadata": {
  "kernelspec": {
   "display_name": "Python 3 (ipykernel)",
   "language": "python",
   "name": "python3"
  },
  "language_info": {
   "codemirror_mode": {
    "name": "ipython",
    "version": 3
   },
   "file_extension": ".py",
   "mimetype": "text/x-python",
   "name": "python",
   "nbconvert_exporter": "python",
   "pygments_lexer": "ipython3",
   "version": "3.9.15"
  }
 },
 "nbformat": 4,
 "nbformat_minor": 5
}
